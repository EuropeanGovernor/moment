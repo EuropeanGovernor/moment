{
 "cells": [
  {
   "cell_type": "code",
   "execution_count": 1,
   "metadata": {},
   "outputs": [
    {
     "name": "stderr",
     "output_type": "stream",
     "text": [
      "/usr1/home/s124mdg43_01/miniconda3/envs/moment/lib/python3.10/site-packages/tqdm/auto.py:21: TqdmWarning: IProgress not found. Please update jupyter and ipywidgets. See https://ipywidgets.readthedocs.io/en/stable/user_install.html\n",
      "  from .autonotebook import tqdm as notebook_tqdm\n",
      "/usr1/home/s124mdg43_01/miniconda3/envs/moment/lib/python3.10/site-packages/transformers/utils/generic.py:311: FutureWarning: `torch.utils._pytree._register_pytree_node` is deprecated. Please use `torch.utils._pytree.register_pytree_node` instead.\n",
      "  torch.utils._pytree._register_pytree_node(\n",
      "/usr1/home/s124mdg43_01/moment/momentfm/models/moment.py:174: UserWarning: Only reconstruction head is pre-trained. Classification and forecasting heads must be fine-tuned.\n",
      "  warnings.warn(\"Only reconstruction head is pre-trained. Classification and forecasting heads must be fine-tuned.\")\n"
     ]
    }
   ],
   "source": [
    "import torch\n",
    "from momentfm import MOMENTPipeline\n",
    "for version in [\"small\",\"base\",\"large\"]:\n",
    "    for _ in [96, 192, 336, 720]:\n",
    "        model = MOMENTPipeline.from_pretrained(\n",
    "            f\"AutonLab/MOMENT-1-{version}\", \n",
    "            model_kwargs={\n",
    "                'task_name': 'forecasting',\n",
    "                'forecast_horizon': _,\n",
    "                'head_dropout': 0.1,\n",
    "                'weight_decay': 0,\n",
    "                'freeze_encoder': True, # Freeze the patch embedding layer\n",
    "                'freeze_embedder': True, # Freeze the transformer encoder\n",
    "                'freeze_head': False, # The linear forecasting head must be trained\n",
    "            },\n",
    "        )\n",
    "        model.init()\n",
    "        torch.save(model.state_dict(),f'../moment/MOMENT_{version}_{_}.ckpt')"
   ]
  }
 ],
 "metadata": {
  "kernelspec": {
   "display_name": "zym",
   "language": "python",
   "name": "python3"
  },
  "language_info": {
   "codemirror_mode": {
    "name": "ipython",
    "version": 3
   },
   "file_extension": ".py",
   "mimetype": "text/x-python",
   "name": "python",
   "nbconvert_exporter": "python",
   "pygments_lexer": "ipython3",
   "version": "3.10.16"
  }
 },
 "nbformat": 4,
 "nbformat_minor": 2
}
